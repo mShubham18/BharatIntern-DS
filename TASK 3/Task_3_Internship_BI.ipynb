{
  "nbformat": 4,
  "nbformat_minor": 0,
  "metadata": {
    "colab": {
      "provenance": [],
      "mount_file_id": "1qLp2cOD-cMePvgB4j4CNsJ-SlmjHBc4i",
      "authorship_tag": "ABX9TyO04GjffHNZDaUqBFtotsdy",
      "include_colab_link": true
    },
    "kernelspec": {
      "name": "python3",
      "display_name": "Python 3"
    },
    "language_info": {
      "name": "python"
    }
  },
  "cells": [
    {
      "cell_type": "markdown",
      "metadata": {
        "id": "view-in-github",
        "colab_type": "text"
      },
      "source": [
        "<a href=\"https://colab.research.google.com/github/mShubham18/BharatIntern-DS/blob/main/TASK%203/Task_3_Internship_BI.ipynb\" target=\"_parent\"><img src=\"https://colab.research.google.com/assets/colab-badge.svg\" alt=\"Open In Colab\"/></a>"
      ]
    },
    {
      "cell_type": "code",
      "execution_count": 1,
      "metadata": {
        "id": "lDZA7cmjgvsy"
      },
      "outputs": [],
      "source": [
        "import numpy as np\n",
        "import pandas as pd\n",
        "from pathlib import Path\n",
        "import os.path\n",
        "import matplotlib.pyplot as plt\n",
        "import seaborn as sns\n",
        "from sklearn.model_selection import train_test_split\n",
        "import tensorflow as tf\n",
        "from sklearn.metrics import confusion_matrix, classification_report\n",
        "\n",
        "import os, cv2, re, random\n",
        "import numpy as np\n",
        "import pandas as pd\n",
        "from keras.preprocessing.image import ImageDataGenerator\n",
        "from keras.preprocessing.image import img_to_array, load_img\n",
        "from keras import layers, models, optimizers\n",
        "from keras import backend as K\n",
        "from sklearn.model_selection import train_test_split"
      ]
    },
    {
      "cell_type": "code",
      "source": [
        "image_dir = Path('/content/drive/MyDrive/Snapu/Dog and Cat')"
      ],
      "metadata": {
        "id": "PmDo-fashGWQ"
      },
      "execution_count": 8,
      "outputs": []
    },
    {
      "cell_type": "code",
      "source": [
        "filepaths = list(image_dir.glob(r'**/*.png'))\n",
        "labels = list(map(lambda x: os.path.split(os.path.split(x)[0])[1], filepaths))\n",
        "\n",
        "filepaths = pd.Series(filepaths, name='Filepath').astype(str)\n",
        "labels = pd.Series(labels, name='Label')\n",
        "\n",
        "image_df = pd.concat([filepaths, labels], axis=1)"
      ],
      "metadata": {
        "id": "2fTH0tY4hRWr"
      },
      "execution_count": 9,
      "outputs": []
    },
    {
      "cell_type": "code",
      "source": [
        "image_df"
      ],
      "metadata": {
        "colab": {
          "base_uri": "https://localhost:8080/",
          "height": 423
        },
        "id": "XVmvQl9-hWjC",
        "outputId": "aa80405e-a785-466b-8fe2-4d5b3220d33b"
      },
      "execution_count": 10,
      "outputs": [
        {
          "output_type": "execute_result",
          "data": {
            "text/plain": [
              "                                              Filepath Label\n",
              "0    /content/drive/MyDrive/Snapu/Dog and Cat/Dog/d...   Dog\n",
              "1    /content/drive/MyDrive/Snapu/Dog and Cat/Dog/d...   Dog\n",
              "2    /content/drive/MyDrive/Snapu/Dog and Cat/Dog/d...   Dog\n",
              "3    /content/drive/MyDrive/Snapu/Dog and Cat/Dog/d...   Dog\n",
              "4    /content/drive/MyDrive/Snapu/Dog and Cat/Dog/d...   Dog\n",
              "..                                                 ...   ...\n",
              "994  /content/drive/MyDrive/Snapu/Dog and Cat/Cat/t...   Cat\n",
              "995  /content/drive/MyDrive/Snapu/Dog and Cat/Cat/t...   Cat\n",
              "996  /content/drive/MyDrive/Snapu/Dog and Cat/Cat/t...   Cat\n",
              "997  /content/drive/MyDrive/Snapu/Dog and Cat/Cat/t...   Cat\n",
              "998  /content/drive/MyDrive/Snapu/Dog and Cat/Cat/t...   Cat\n",
              "\n",
              "[999 rows x 2 columns]"
            ],
            "text/html": [
              "\n",
              "  <div id=\"df-75be8545-6c70-456d-a26a-0437e33b90cd\" class=\"colab-df-container\">\n",
              "    <div>\n",
              "<style scoped>\n",
              "    .dataframe tbody tr th:only-of-type {\n",
              "        vertical-align: middle;\n",
              "    }\n",
              "\n",
              "    .dataframe tbody tr th {\n",
              "        vertical-align: top;\n",
              "    }\n",
              "\n",
              "    .dataframe thead th {\n",
              "        text-align: right;\n",
              "    }\n",
              "</style>\n",
              "<table border=\"1\" class=\"dataframe\">\n",
              "  <thead>\n",
              "    <tr style=\"text-align: right;\">\n",
              "      <th></th>\n",
              "      <th>Filepath</th>\n",
              "      <th>Label</th>\n",
              "    </tr>\n",
              "  </thead>\n",
              "  <tbody>\n",
              "    <tr>\n",
              "      <th>0</th>\n",
              "      <td>/content/drive/MyDrive/Snapu/Dog and Cat/Dog/d...</td>\n",
              "      <td>Dog</td>\n",
              "    </tr>\n",
              "    <tr>\n",
              "      <th>1</th>\n",
              "      <td>/content/drive/MyDrive/Snapu/Dog and Cat/Dog/d...</td>\n",
              "      <td>Dog</td>\n",
              "    </tr>\n",
              "    <tr>\n",
              "      <th>2</th>\n",
              "      <td>/content/drive/MyDrive/Snapu/Dog and Cat/Dog/d...</td>\n",
              "      <td>Dog</td>\n",
              "    </tr>\n",
              "    <tr>\n",
              "      <th>3</th>\n",
              "      <td>/content/drive/MyDrive/Snapu/Dog and Cat/Dog/d...</td>\n",
              "      <td>Dog</td>\n",
              "    </tr>\n",
              "    <tr>\n",
              "      <th>4</th>\n",
              "      <td>/content/drive/MyDrive/Snapu/Dog and Cat/Dog/d...</td>\n",
              "      <td>Dog</td>\n",
              "    </tr>\n",
              "    <tr>\n",
              "      <th>...</th>\n",
              "      <td>...</td>\n",
              "      <td>...</td>\n",
              "    </tr>\n",
              "    <tr>\n",
              "      <th>994</th>\n",
              "      <td>/content/drive/MyDrive/Snapu/Dog and Cat/Cat/t...</td>\n",
              "      <td>Cat</td>\n",
              "    </tr>\n",
              "    <tr>\n",
              "      <th>995</th>\n",
              "      <td>/content/drive/MyDrive/Snapu/Dog and Cat/Cat/t...</td>\n",
              "      <td>Cat</td>\n",
              "    </tr>\n",
              "    <tr>\n",
              "      <th>996</th>\n",
              "      <td>/content/drive/MyDrive/Snapu/Dog and Cat/Cat/t...</td>\n",
              "      <td>Cat</td>\n",
              "    </tr>\n",
              "    <tr>\n",
              "      <th>997</th>\n",
              "      <td>/content/drive/MyDrive/Snapu/Dog and Cat/Cat/t...</td>\n",
              "      <td>Cat</td>\n",
              "    </tr>\n",
              "    <tr>\n",
              "      <th>998</th>\n",
              "      <td>/content/drive/MyDrive/Snapu/Dog and Cat/Cat/t...</td>\n",
              "      <td>Cat</td>\n",
              "    </tr>\n",
              "  </tbody>\n",
              "</table>\n",
              "<p>999 rows × 2 columns</p>\n",
              "</div>\n",
              "    <div class=\"colab-df-buttons\">\n",
              "\n",
              "  <div class=\"colab-df-container\">\n",
              "    <button class=\"colab-df-convert\" onclick=\"convertToInteractive('df-75be8545-6c70-456d-a26a-0437e33b90cd')\"\n",
              "            title=\"Convert this dataframe to an interactive table.\"\n",
              "            style=\"display:none;\">\n",
              "\n",
              "  <svg xmlns=\"http://www.w3.org/2000/svg\" height=\"24px\" viewBox=\"0 -960 960 960\">\n",
              "    <path d=\"M120-120v-720h720v720H120Zm60-500h600v-160H180v160Zm220 220h160v-160H400v160Zm0 220h160v-160H400v160ZM180-400h160v-160H180v160Zm440 0h160v-160H620v160ZM180-180h160v-160H180v160Zm440 0h160v-160H620v160Z\"/>\n",
              "  </svg>\n",
              "    </button>\n",
              "\n",
              "  <style>\n",
              "    .colab-df-container {\n",
              "      display:flex;\n",
              "      gap: 12px;\n",
              "    }\n",
              "\n",
              "    .colab-df-convert {\n",
              "      background-color: #E8F0FE;\n",
              "      border: none;\n",
              "      border-radius: 50%;\n",
              "      cursor: pointer;\n",
              "      display: none;\n",
              "      fill: #1967D2;\n",
              "      height: 32px;\n",
              "      padding: 0 0 0 0;\n",
              "      width: 32px;\n",
              "    }\n",
              "\n",
              "    .colab-df-convert:hover {\n",
              "      background-color: #E2EBFA;\n",
              "      box-shadow: 0px 1px 2px rgba(60, 64, 67, 0.3), 0px 1px 3px 1px rgba(60, 64, 67, 0.15);\n",
              "      fill: #174EA6;\n",
              "    }\n",
              "\n",
              "    .colab-df-buttons div {\n",
              "      margin-bottom: 4px;\n",
              "    }\n",
              "\n",
              "    [theme=dark] .colab-df-convert {\n",
              "      background-color: #3B4455;\n",
              "      fill: #D2E3FC;\n",
              "    }\n",
              "\n",
              "    [theme=dark] .colab-df-convert:hover {\n",
              "      background-color: #434B5C;\n",
              "      box-shadow: 0px 1px 3px 1px rgba(0, 0, 0, 0.15);\n",
              "      filter: drop-shadow(0px 1px 2px rgba(0, 0, 0, 0.3));\n",
              "      fill: #FFFFFF;\n",
              "    }\n",
              "  </style>\n",
              "\n",
              "    <script>\n",
              "      const buttonEl =\n",
              "        document.querySelector('#df-75be8545-6c70-456d-a26a-0437e33b90cd button.colab-df-convert');\n",
              "      buttonEl.style.display =\n",
              "        google.colab.kernel.accessAllowed ? 'block' : 'none';\n",
              "\n",
              "      async function convertToInteractive(key) {\n",
              "        const element = document.querySelector('#df-75be8545-6c70-456d-a26a-0437e33b90cd');\n",
              "        const dataTable =\n",
              "          await google.colab.kernel.invokeFunction('convertToInteractive',\n",
              "                                                    [key], {});\n",
              "        if (!dataTable) return;\n",
              "\n",
              "        const docLinkHtml = 'Like what you see? Visit the ' +\n",
              "          '<a target=\"_blank\" href=https://colab.research.google.com/notebooks/data_table.ipynb>data table notebook</a>'\n",
              "          + ' to learn more about interactive tables.';\n",
              "        element.innerHTML = '';\n",
              "        dataTable['output_type'] = 'display_data';\n",
              "        await google.colab.output.renderOutput(dataTable, element);\n",
              "        const docLink = document.createElement('div');\n",
              "        docLink.innerHTML = docLinkHtml;\n",
              "        element.appendChild(docLink);\n",
              "      }\n",
              "    </script>\n",
              "  </div>\n",
              "\n",
              "\n",
              "<div id=\"df-e7ca8778-2547-449f-99da-70b07ed76e76\">\n",
              "  <button class=\"colab-df-quickchart\" onclick=\"quickchart('df-e7ca8778-2547-449f-99da-70b07ed76e76')\"\n",
              "            title=\"Suggest charts\"\n",
              "            style=\"display:none;\">\n",
              "\n",
              "<svg xmlns=\"http://www.w3.org/2000/svg\" height=\"24px\"viewBox=\"0 0 24 24\"\n",
              "     width=\"24px\">\n",
              "    <g>\n",
              "        <path d=\"M19 3H5c-1.1 0-2 .9-2 2v14c0 1.1.9 2 2 2h14c1.1 0 2-.9 2-2V5c0-1.1-.9-2-2-2zM9 17H7v-7h2v7zm4 0h-2V7h2v10zm4 0h-2v-4h2v4z\"/>\n",
              "    </g>\n",
              "</svg>\n",
              "  </button>\n",
              "\n",
              "<style>\n",
              "  .colab-df-quickchart {\n",
              "      --bg-color: #E8F0FE;\n",
              "      --fill-color: #1967D2;\n",
              "      --hover-bg-color: #E2EBFA;\n",
              "      --hover-fill-color: #174EA6;\n",
              "      --disabled-fill-color: #AAA;\n",
              "      --disabled-bg-color: #DDD;\n",
              "  }\n",
              "\n",
              "  [theme=dark] .colab-df-quickchart {\n",
              "      --bg-color: #3B4455;\n",
              "      --fill-color: #D2E3FC;\n",
              "      --hover-bg-color: #434B5C;\n",
              "      --hover-fill-color: #FFFFFF;\n",
              "      --disabled-bg-color: #3B4455;\n",
              "      --disabled-fill-color: #666;\n",
              "  }\n",
              "\n",
              "  .colab-df-quickchart {\n",
              "    background-color: var(--bg-color);\n",
              "    border: none;\n",
              "    border-radius: 50%;\n",
              "    cursor: pointer;\n",
              "    display: none;\n",
              "    fill: var(--fill-color);\n",
              "    height: 32px;\n",
              "    padding: 0;\n",
              "    width: 32px;\n",
              "  }\n",
              "\n",
              "  .colab-df-quickchart:hover {\n",
              "    background-color: var(--hover-bg-color);\n",
              "    box-shadow: 0 1px 2px rgba(60, 64, 67, 0.3), 0 1px 3px 1px rgba(60, 64, 67, 0.15);\n",
              "    fill: var(--button-hover-fill-color);\n",
              "  }\n",
              "\n",
              "  .colab-df-quickchart-complete:disabled,\n",
              "  .colab-df-quickchart-complete:disabled:hover {\n",
              "    background-color: var(--disabled-bg-color);\n",
              "    fill: var(--disabled-fill-color);\n",
              "    box-shadow: none;\n",
              "  }\n",
              "\n",
              "  .colab-df-spinner {\n",
              "    border: 2px solid var(--fill-color);\n",
              "    border-color: transparent;\n",
              "    border-bottom-color: var(--fill-color);\n",
              "    animation:\n",
              "      spin 1s steps(1) infinite;\n",
              "  }\n",
              "\n",
              "  @keyframes spin {\n",
              "    0% {\n",
              "      border-color: transparent;\n",
              "      border-bottom-color: var(--fill-color);\n",
              "      border-left-color: var(--fill-color);\n",
              "    }\n",
              "    20% {\n",
              "      border-color: transparent;\n",
              "      border-left-color: var(--fill-color);\n",
              "      border-top-color: var(--fill-color);\n",
              "    }\n",
              "    30% {\n",
              "      border-color: transparent;\n",
              "      border-left-color: var(--fill-color);\n",
              "      border-top-color: var(--fill-color);\n",
              "      border-right-color: var(--fill-color);\n",
              "    }\n",
              "    40% {\n",
              "      border-color: transparent;\n",
              "      border-right-color: var(--fill-color);\n",
              "      border-top-color: var(--fill-color);\n",
              "    }\n",
              "    60% {\n",
              "      border-color: transparent;\n",
              "      border-right-color: var(--fill-color);\n",
              "    }\n",
              "    80% {\n",
              "      border-color: transparent;\n",
              "      border-right-color: var(--fill-color);\n",
              "      border-bottom-color: var(--fill-color);\n",
              "    }\n",
              "    90% {\n",
              "      border-color: transparent;\n",
              "      border-bottom-color: var(--fill-color);\n",
              "    }\n",
              "  }\n",
              "</style>\n",
              "\n",
              "  <script>\n",
              "    async function quickchart(key) {\n",
              "      const quickchartButtonEl =\n",
              "        document.querySelector('#' + key + ' button');\n",
              "      quickchartButtonEl.disabled = true;  // To prevent multiple clicks.\n",
              "      quickchartButtonEl.classList.add('colab-df-spinner');\n",
              "      try {\n",
              "        const charts = await google.colab.kernel.invokeFunction(\n",
              "            'suggestCharts', [key], {});\n",
              "      } catch (error) {\n",
              "        console.error('Error during call to suggestCharts:', error);\n",
              "      }\n",
              "      quickchartButtonEl.classList.remove('colab-df-spinner');\n",
              "      quickchartButtonEl.classList.add('colab-df-quickchart-complete');\n",
              "    }\n",
              "    (() => {\n",
              "      let quickchartButtonEl =\n",
              "        document.querySelector('#df-e7ca8778-2547-449f-99da-70b07ed76e76 button');\n",
              "      quickchartButtonEl.style.display =\n",
              "        google.colab.kernel.accessAllowed ? 'block' : 'none';\n",
              "    })();\n",
              "  </script>\n",
              "</div>\n",
              "    </div>\n",
              "  </div>\n"
            ]
          },
          "metadata": {},
          "execution_count": 10
        }
      ]
    },
    {
      "cell_type": "code",
      "source": [
        "train_df, test_df = train_test_split(image_df, train_size=0.7, shuffle=True, random_state=1)"
      ],
      "metadata": {
        "id": "e7cYugjhhXYI"
      },
      "execution_count": 11,
      "outputs": []
    },
    {
      "cell_type": "code",
      "source": [
        "train_generator = tf.keras.preprocessing.image.ImageDataGenerator(\n",
        "    rescale=1./255,\n",
        "    horizontal_flip=True,\n",
        "    width_shift_range=0.2,\n",
        "    height_shift_range=0.2,\n",
        "    validation_split=0.2\n",
        ")\n",
        "\n",
        "val_generator = tf.keras.preprocessing.image.ImageDataGenerator(\n",
        "    rescale=1./255,\n",
        "    horizontal_flip=True,\n",
        "    width_shift_range=0.2,\n",
        "    height_shift_range=0.2,\n",
        "    validation_split=0.2\n",
        ")\n",
        "\n",
        "\n",
        "test_generator = tf.keras.preprocessing.image.ImageDataGenerator(\n",
        "    rescale=1./255\n",
        ")"
      ],
      "metadata": {
        "id": "tn4-GS3she2O"
      },
      "execution_count": 12,
      "outputs": []
    },
    {
      "cell_type": "code",
      "source": [
        "train_images = train_generator.flow_from_dataframe(\n",
        "    dataframe=train_df,\n",
        "    x_col='Filepath',\n",
        "    y_col='Label',\n",
        "    target_size=(224, 224),\n",
        "    color_mode='rgb',\n",
        "    class_mode='binary',\n",
        "    batch_size=32,\n",
        "    shuffle=True,\n",
        "    seed=42,\n",
        "    subset='training'\n",
        ")\n",
        "\n",
        "val_images = val_generator.flow_from_dataframe(\n",
        "    dataframe=train_df,\n",
        "    x_col='Filepath',\n",
        "    y_col='Label',\n",
        "    target_size=(224, 224),\n",
        "    color_mode='rgb',\n",
        "    class_mode='binary',\n",
        "    batch_size=32,\n",
        "    shuffle=True,\n",
        "    seed=42,\n",
        "    subset='validation'\n",
        ")\n",
        "\n",
        "test_images = test_generator.flow_from_dataframe(\n",
        "    dataframe=test_df,\n",
        "    x_col='Filepath',\n",
        "    y_col='Label',\n",
        "    target_size=(224, 224),\n",
        "    color_mode='rgb',\n",
        "    class_mode='binary',\n",
        "    batch_size=32,\n",
        "    shuffle=False\n",
        ")"
      ],
      "metadata": {
        "colab": {
          "base_uri": "https://localhost:8080/"
        },
        "id": "hE-_NvWDhy_f",
        "outputId": "deb750cb-6f77-45ce-ff81-f7cc64ccb528"
      },
      "execution_count": 13,
      "outputs": [
        {
          "output_type": "stream",
          "name": "stdout",
          "text": [
            "Found 560 validated image filenames belonging to 2 classes.\n",
            "Found 139 validated image filenames belonging to 2 classes.\n",
            "Found 300 validated image filenames belonging to 2 classes.\n"
          ]
        }
      ]
    },
    {
      "cell_type": "code",
      "source": [
        "inputs = tf.keras.Input(shape=(224, 224, 3))\n",
        "x = tf.keras.layers.Conv2D(filters=16, kernel_size=(3, 3), activation='relu')(inputs)\n",
        "x = tf.keras.layers.MaxPool2D()(x)\n",
        "x = tf.keras.layers.Conv2D(filters=32, kernel_size=(3, 3), activation='relu')(x)\n",
        "x = tf.keras.layers.MaxPool2D()(x)\n",
        "x = tf.keras.layers.GlobalAveragePooling2D()(x)\n",
        "x = tf.keras.layers.Dense(128, activation='relu')(x)\n",
        "x = tf.keras.layers.Dense(128, activation='relu')(x)\n",
        "outputs = tf.keras.layers.Dense(1, activation='sigmoid')(x)\n",
        "\n",
        "model = tf.keras.Model(inputs=inputs, outputs=outputs)\n",
        "\n",
        "model.compile(\n",
        "    optimizer='adam',\n",
        "    loss='binary_crossentropy',\n",
        "    metrics=['accuracy']\n",
        ")\n",
        "\n",
        "history = model.fit(\n",
        "    train_images,\n",
        "    validation_data=val_images,\n",
        "    epochs=100,\n",
        "    callbacks=[\n",
        "        tf.keras.callbacks.EarlyStopping(\n",
        "            monitor='val_loss',\n",
        "            patience=5,\n",
        "            restore_best_weights=True\n",
        "        ),\n",
        "        tf.keras.callbacks.ReduceLROnPlateau(\n",
        "            monitor='val_loss',\n",
        "            patience=3\n",
        "        )\n",
        "    ]\n",
        ")"
      ],
      "metadata": {
        "colab": {
          "base_uri": "https://localhost:8080/"
        },
        "id": "9Bq51D2vh3Ba",
        "outputId": "42a5f5c1-4b02-4b12-aa0b-ad3d45f6f989"
      },
      "execution_count": 14,
      "outputs": [
        {
          "output_type": "stream",
          "name": "stdout",
          "text": [
            "Epoch 1/100\n",
            "18/18 [==============================] - 125s 7s/step - loss: 0.6935 - accuracy: 0.4857 - val_loss: 0.6912 - val_accuracy: 0.5899 - lr: 0.0010\n",
            "Epoch 2/100\n",
            "18/18 [==============================] - 32s 2s/step - loss: 0.6917 - accuracy: 0.5179 - val_loss: 0.6894 - val_accuracy: 0.5396 - lr: 0.0010\n",
            "Epoch 3/100\n",
            "18/18 [==============================] - 34s 2s/step - loss: 0.6891 - accuracy: 0.5446 - val_loss: 0.6874 - val_accuracy: 0.6331 - lr: 0.0010\n",
            "Epoch 4/100\n",
            "18/18 [==============================] - 33s 2s/step - loss: 0.6844 - accuracy: 0.5714 - val_loss: 0.6844 - val_accuracy: 0.5971 - lr: 0.0010\n",
            "Epoch 5/100\n",
            "18/18 [==============================] - 33s 2s/step - loss: 0.6758 - accuracy: 0.5875 - val_loss: 0.6740 - val_accuracy: 0.5468 - lr: 0.0010\n",
            "Epoch 6/100\n",
            "18/18 [==============================] - 34s 2s/step - loss: 0.6596 - accuracy: 0.6107 - val_loss: 0.6776 - val_accuracy: 0.5252 - lr: 0.0010\n",
            "Epoch 7/100\n",
            "18/18 [==============================] - 34s 2s/step - loss: 0.6535 - accuracy: 0.6214 - val_loss: 0.6552 - val_accuracy: 0.6403 - lr: 0.0010\n",
            "Epoch 8/100\n",
            "18/18 [==============================] - 34s 2s/step - loss: 0.6565 - accuracy: 0.6143 - val_loss: 0.6969 - val_accuracy: 0.5468 - lr: 0.0010\n",
            "Epoch 9/100\n",
            "18/18 [==============================] - 39s 2s/step - loss: 0.6749 - accuracy: 0.5643 - val_loss: 0.6564 - val_accuracy: 0.6403 - lr: 0.0010\n",
            "Epoch 10/100\n",
            "18/18 [==============================] - 34s 2s/step - loss: 0.6408 - accuracy: 0.6464 - val_loss: 0.6503 - val_accuracy: 0.6187 - lr: 0.0010\n",
            "Epoch 11/100\n",
            "18/18 [==============================] - 33s 2s/step - loss: 0.6461 - accuracy: 0.6125 - val_loss: 0.6563 - val_accuracy: 0.6331 - lr: 0.0010\n",
            "Epoch 12/100\n",
            "18/18 [==============================] - 34s 2s/step - loss: 0.6435 - accuracy: 0.6286 - val_loss: 0.6422 - val_accuracy: 0.6331 - lr: 0.0010\n",
            "Epoch 13/100\n",
            "18/18 [==============================] - 33s 2s/step - loss: 0.6395 - accuracy: 0.6286 - val_loss: 0.6450 - val_accuracy: 0.5971 - lr: 0.0010\n",
            "Epoch 14/100\n",
            "18/18 [==============================] - 34s 2s/step - loss: 0.6341 - accuracy: 0.6429 - val_loss: 0.6445 - val_accuracy: 0.6547 - lr: 0.0010\n",
            "Epoch 15/100\n",
            "18/18 [==============================] - 34s 2s/step - loss: 0.6302 - accuracy: 0.6411 - val_loss: 0.6304 - val_accuracy: 0.6547 - lr: 0.0010\n",
            "Epoch 16/100\n",
            "18/18 [==============================] - 39s 2s/step - loss: 0.6358 - accuracy: 0.6357 - val_loss: 0.6337 - val_accuracy: 0.6763 - lr: 0.0010\n",
            "Epoch 17/100\n",
            "18/18 [==============================] - 32s 2s/step - loss: 0.6300 - accuracy: 0.6304 - val_loss: 0.6773 - val_accuracy: 0.6259 - lr: 0.0010\n",
            "Epoch 18/100\n",
            "18/18 [==============================] - 34s 2s/step - loss: 0.6306 - accuracy: 0.6375 - val_loss: 0.6385 - val_accuracy: 0.6619 - lr: 0.0010\n",
            "Epoch 19/100\n",
            "18/18 [==============================] - 39s 2s/step - loss: 0.6273 - accuracy: 0.6464 - val_loss: 0.6407 - val_accuracy: 0.6763 - lr: 1.0000e-04\n",
            "Epoch 20/100\n",
            "18/18 [==============================] - 32s 2s/step - loss: 0.6278 - accuracy: 0.6482 - val_loss: 0.6377 - val_accuracy: 0.6403 - lr: 1.0000e-04\n"
          ]
        }
      ]
    },
    {
      "cell_type": "code",
      "source": [
        "inputs = tf.keras.Input(shape=(224, 224, 3))\n",
        "x = tf.keras.layers.Conv2D(filters=16, kernel_size=(3, 3), activation='relu')(inputs)\n",
        "x = tf.keras.layers.MaxPool2D()(x)\n",
        "x = tf.keras.layers.Conv2D(filters=32, kernel_size=(3, 3), activation='relu')(x)\n",
        "x = tf.keras.layers.MaxPool2D()(x)\n",
        "x = tf.keras.layers.GlobalAveragePooling2D()(x)\n",
        "x = tf.keras.layers.Dense(128, activation='relu')(x)\n",
        "x = tf.keras.layers.Dense(128, activation='relu')(x)\n",
        "outputs = tf.keras.layers.Dense(1, activation='sigmoid')(x)\n",
        "\n",
        "model2 = tf.keras.Model(inputs=inputs, outputs=outputs)\n",
        "\n",
        "model2.compile(\n",
        "    optimizer='rmsprop',\n",
        "    loss='binary_crossentropy',\n",
        "    metrics=['accuracy']\n",
        ")\n",
        "\n",
        "history = model2.fit(\n",
        "    train_images,\n",
        "    validation_data=val_images,\n",
        "    epochs=100,\n",
        "    callbacks=[\n",
        "        tf.keras.callbacks.EarlyStopping(\n",
        "            monitor='val_loss',\n",
        "            patience=5,\n",
        "            restore_best_weights=True\n",
        "        ),\n",
        "        tf.keras.callbacks.ReduceLROnPlateau(\n",
        "            monitor='val_loss',\n",
        "            patience=3\n",
        "        )\n",
        "    ]\n",
        ")"
      ],
      "metadata": {
        "colab": {
          "base_uri": "https://localhost:8080/"
        },
        "id": "NqhTD7oCqFcc",
        "outputId": "977b96cc-ea07-4c05-d6ae-786c91a06918"
      },
      "execution_count": 17,
      "outputs": [
        {
          "output_type": "stream",
          "name": "stdout",
          "text": [
            "Epoch 1/100\n",
            "18/18 [==============================] - 43s 2s/step - loss: 0.6944 - accuracy: 0.4964 - val_loss: 0.6932 - val_accuracy: 0.4964 - lr: 0.0010\n",
            "Epoch 2/100\n",
            "18/18 [==============================] - 33s 2s/step - loss: 0.6939 - accuracy: 0.5036 - val_loss: 0.6929 - val_accuracy: 0.5036 - lr: 0.0010\n",
            "Epoch 3/100\n",
            "18/18 [==============================] - 35s 2s/step - loss: 0.6939 - accuracy: 0.5018 - val_loss: 0.6928 - val_accuracy: 0.6187 - lr: 0.0010\n",
            "Epoch 4/100\n",
            "18/18 [==============================] - 36s 2s/step - loss: 0.6941 - accuracy: 0.4964 - val_loss: 0.6923 - val_accuracy: 0.5324 - lr: 0.0010\n",
            "Epoch 5/100\n",
            "18/18 [==============================] - 34s 2s/step - loss: 0.6930 - accuracy: 0.4929 - val_loss: 0.6910 - val_accuracy: 0.5612 - lr: 0.0010\n",
            "Epoch 6/100\n",
            "18/18 [==============================] - 33s 2s/step - loss: 0.6906 - accuracy: 0.5589 - val_loss: 0.6891 - val_accuracy: 0.4964 - lr: 0.0010\n",
            "Epoch 7/100\n",
            "18/18 [==============================] - 32s 2s/step - loss: 0.6863 - accuracy: 0.5714 - val_loss: 0.6845 - val_accuracy: 0.4964 - lr: 0.0010\n",
            "Epoch 8/100\n",
            "18/18 [==============================] - 32s 2s/step - loss: 0.6850 - accuracy: 0.5714 - val_loss: 0.6793 - val_accuracy: 0.6259 - lr: 0.0010\n",
            "Epoch 9/100\n",
            "18/18 [==============================] - 32s 2s/step - loss: 0.6821 - accuracy: 0.5839 - val_loss: 0.6768 - val_accuracy: 0.5971 - lr: 0.0010\n",
            "Epoch 10/100\n",
            "18/18 [==============================] - 33s 2s/step - loss: 0.6788 - accuracy: 0.5929 - val_loss: 0.6751 - val_accuracy: 0.6115 - lr: 0.0010\n",
            "Epoch 11/100\n",
            "18/18 [==============================] - 32s 2s/step - loss: 0.6749 - accuracy: 0.5929 - val_loss: 0.6741 - val_accuracy: 0.5971 - lr: 0.0010\n",
            "Epoch 12/100\n",
            "18/18 [==============================] - 33s 2s/step - loss: 0.6673 - accuracy: 0.6036 - val_loss: 0.6650 - val_accuracy: 0.5971 - lr: 0.0010\n",
            "Epoch 13/100\n",
            "18/18 [==============================] - 33s 2s/step - loss: 0.6663 - accuracy: 0.5982 - val_loss: 0.6617 - val_accuracy: 0.6115 - lr: 0.0010\n",
            "Epoch 14/100\n",
            "18/18 [==============================] - 37s 2s/step - loss: 0.6644 - accuracy: 0.5804 - val_loss: 0.6592 - val_accuracy: 0.6187 - lr: 0.0010\n",
            "Epoch 15/100\n",
            "18/18 [==============================] - 34s 2s/step - loss: 0.6626 - accuracy: 0.5982 - val_loss: 0.6576 - val_accuracy: 0.6187 - lr: 0.0010\n",
            "Epoch 16/100\n",
            "18/18 [==============================] - 33s 2s/step - loss: 0.6600 - accuracy: 0.6071 - val_loss: 0.6786 - val_accuracy: 0.5540 - lr: 0.0010\n",
            "Epoch 17/100\n",
            "18/18 [==============================] - 34s 2s/step - loss: 0.6541 - accuracy: 0.6304 - val_loss: 0.6787 - val_accuracy: 0.5612 - lr: 0.0010\n",
            "Epoch 18/100\n",
            "18/18 [==============================] - 34s 2s/step - loss: 0.6696 - accuracy: 0.6161 - val_loss: 0.6631 - val_accuracy: 0.6115 - lr: 0.0010\n",
            "Epoch 19/100\n",
            "18/18 [==============================] - 34s 2s/step - loss: 0.6513 - accuracy: 0.6214 - val_loss: 0.6576 - val_accuracy: 0.6043 - lr: 1.0000e-04\n",
            "Epoch 20/100\n",
            "18/18 [==============================] - 33s 2s/step - loss: 0.6436 - accuracy: 0.6375 - val_loss: 0.6619 - val_accuracy: 0.6259 - lr: 1.0000e-04\n"
          ]
        }
      ]
    },
    {
      "cell_type": "code",
      "source": [
        "results = model.evaluate(test_images, verbose=0)\n",
        "\n",
        "print(\"    Test Loss: {:.5f}\".format(results[0]))\n",
        "print(\"Test Accuracy: {:.2f}%\".format(results[1] * 100))"
      ],
      "metadata": {
        "colab": {
          "base_uri": "https://localhost:8080/"
        },
        "id": "qicWmdeHh3JJ",
        "outputId": "a1a9c287-487f-4dd2-adf9-36cc87655471"
      },
      "execution_count": 15,
      "outputs": [
        {
          "output_type": "stream",
          "name": "stdout",
          "text": [
            "    Test Loss: 0.64491\n",
            "Test Accuracy: 61.67%\n"
          ]
        }
      ]
    },
    {
      "cell_type": "code",
      "source": [
        "results2 = model.evaluate(test_images, verbose=0)\n",
        "\n",
        "print(\"    Test Loss: {:.5f}\".format(results2[0]))\n",
        "print(\"Test Accuracy: {:.2f}%\".format(results2[1] * 100))"
      ],
      "metadata": {
        "colab": {
          "base_uri": "https://localhost:8080/"
        },
        "id": "SAOnn_IFh3Ps",
        "outputId": "7be39d64-add9-429b-dec7-1e4a0721e204"
      },
      "execution_count": 18,
      "outputs": [
        {
          "output_type": "stream",
          "name": "stdout",
          "text": [
            "    Test Loss: 0.64491\n",
            "Test Accuracy: 61.67%\n"
          ]
        }
      ]
    },
    {
      "cell_type": "code",
      "source": [
        "predictions = (model.predict(test_images) >= 0.5).astype(np.int)\n",
        "\n",
        "cm = confusion_matrix(test_images.labels, predictions, labels=[0, 1])\n",
        "clr = classification_report(test_images.labels, predictions, labels=[0, 1], target_names=[\"CAT\", \"DOG\"])\n",
        "\n",
        "plt.figure(figsize=(6, 6))\n",
        "sns.heatmap(cm, annot=True, fmt='g', vmin=0, cmap='Blues', cbar=False)\n",
        "plt.xticks(ticks=[0.5, 1.5], labels=[\"CAT\", \"DOG\"])\n",
        "plt.yticks(ticks=[0.5, 1.5], labels=[\"CAT\", \"DOG\"])\n",
        "plt.xlabel(\"Predicted\")\n",
        "plt.ylabel(\"Actual\")\n",
        "plt.title(\"Confusion Matrix\")\n",
        "plt.show()\n",
        "\n",
        "print(\"Classification Report:\\n----------------------\\n\", clr)"
      ],
      "metadata": {
        "colab": {
          "base_uri": "https://localhost:8080/",
          "height": 844
        },
        "id": "o9HOGq-8h3WP",
        "outputId": "029570d4-0ecb-4d6c-899e-4ab9111f29db"
      },
      "execution_count": 19,
      "outputs": [
        {
          "output_type": "stream",
          "name": "stdout",
          "text": [
            "10/10 [==============================] - 4s 370ms/step\n"
          ]
        },
        {
          "output_type": "stream",
          "name": "stderr",
          "text": [
            "<ipython-input-19-3fcf80f737cf>:1: DeprecationWarning: `np.int` is a deprecated alias for the builtin `int`. To silence this warning, use `int` by itself. Doing this will not modify any behavior and is safe. When replacing `np.int`, you may wish to use e.g. `np.int64` or `np.int32` to specify the precision. If you wish to review your current use, check the release note link for additional information.\n",
            "Deprecated in NumPy 1.20; for more details and guidance: https://numpy.org/devdocs/release/1.20.0-notes.html#deprecations\n",
            "  predictions = (model.predict(test_images) >= 0.5).astype(np.int)\n"
          ]
        },
        {
          "output_type": "display_data",
          "data": {
            "text/plain": [
              "<Figure size 600x600 with 1 Axes>"
            ],
            "image/png": "[encoded data removed]"
          },
          "metadata": {}
        },
        {
          "output_type": "stream",
          "name": "stdout",
          "text": [
            "Classification Report:\n",
            "----------------------\n",
            "               precision    recall  f1-score   support\n",
            "\n",
            "         CAT       0.61      0.64      0.63       151\n",
            "         DOG       0.62      0.59      0.60       149\n",
            "\n",
            "    accuracy                           0.62       300\n",
            "   macro avg       0.62      0.62      0.62       300\n",
            "weighted avg       0.62      0.62      0.62       300\n",
            "\n"
          ]
        }
      ]
    },
    {
      "cell_type": "code",
      "source": [],
      "metadata": {
        "id": "oOtXFZ8-h3cL"
      },
      "execution_count": null,
      "outputs": []
    }
  ]
}